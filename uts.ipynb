{
 "cells": [
  {
   "cell_type": "code",
   "execution_count": 5,
   "metadata": {},
   "outputs": [],
   "source": [
    "import pandas as pd"
   ]
  },
  {
   "cell_type": "code",
   "execution_count": 8,
   "metadata": {},
   "outputs": [
    {
     "name": "stdout",
     "output_type": "stream",
     "text": [
      "Rata-rata mahasiswa datang pada minggu ini: 2.7142857142857144\n"
     ]
    }
   ],
   "source": [
    "# Baca file Dataset.csv\n",
    "df = pd.read_csv(\"Dataset.csv\")\n",
    "\n",
    "# Ubah biaya dari string menjadi integer\n",
    "df['BIAYA'] = df['BIAYA'].apply(lambda x: int(x.split('x')[0]) * int(x.split('x')[1]))\n",
    "\n",
    "# Kelompokkan data berdasarkan hari dan jumlahkan jumlah mahasiswa yang datang pada setiap hari\n",
    "mahasiswa_per_hari = df.groupby('HARI')['DATANG'].sum()\n",
    "\n",
    "# Hitung jumlah total mahasiswa yang datang pada minggu tersebut\n",
    "total_mahasiswa_minggu_ini = mahasiswa_per_hari.sum()\n",
    "\n",
    "# Hitung rata-rata mahasiswa datang pada minggu ini\n",
    "rata_rata_mahasiswa = total_mahasiswa_minggu_ini / 7\n",
    "\n",
    "print(\"Rata-rata mahasiswa datang pada minggu ini:\", rata_rata_mahasiswa)"
   ]
  },
  {
   "cell_type": "code",
   "execution_count": 9,
   "metadata": {},
   "outputs": [
    {
     "name": "stdout",
     "output_type": "stream",
     "text": [
      "Biaya tertinggi terjadi pada hari: Sabtu\n"
     ]
    }
   ],
   "source": [
    "# Baca file Dataset.csv\n",
    "df = pd.read_csv(\"Dataset.csv\")\n",
    "\n",
    "# Ubah biaya dari string menjadi integer\n",
    "df['BIAYA'] = df['BIAYA'].apply(lambda x: int(x.split('x')[0]) * int(x.split('x')[1]))\n",
    "\n",
    "# Hitung biaya total untuk setiap mahasiswa\n",
    "df['BIAYA_TOTAL'] = df['DATANG'] * df['BIAYA']\n",
    "\n",
    "# Temukan baris dengan biaya tertinggi\n",
    "baris_biaya_tertinggi = df[df['BIAYA_TOTAL'] == df['BIAYA_TOTAL'].max()]\n",
    "\n",
    "# Ambil nilai hari dari baris dengan biaya tertinggi\n",
    "hari_biaya_tertinggi = baris_biaya_tertinggi['HARI'].values[0]\n",
    "\n",
    "print(\"Biaya tertinggi terjadi pada hari:\", hari_biaya_tertinggi)"
   ]
  },
  {
   "cell_type": "code",
   "execution_count": 10,
   "metadata": {},
   "outputs": [
    {
     "name": "stdout",
     "output_type": "stream",
     "text": [
      "Hari di mana biaya lebih dari 110000: ['Minggu', 'Rabu', 'Sabtu', 'Selasa', 'Senin']\n"
     ]
    }
   ],
   "source": [
    "# Baca file Dataset.csv\n",
    "df = pd.read_csv(\"Dataset.csv\")\n",
    "\n",
    "# Ubah biaya dari string menjadi integer\n",
    "df['BIAYA'] = df['BIAYA'].apply(lambda x: int(x.split('x')[0]) * int(x.split('x')[1]))\n",
    "\n",
    "# Hitung biaya total untuk setiap entri data\n",
    "df['BIAYA_TOTAL'] = df['DATANG'] * df['BIAYA']\n",
    "\n",
    "# Kelompokkan data berdasarkan hari dan hitung total biaya untuk setiap hari\n",
    "biaya_per_hari = df.groupby('HARI')['BIAYA_TOTAL'].sum()\n",
    "\n",
    "# Temukan hari di mana biaya total lebih dari 110000\n",
    "hari_biaya_lebih_110000 = biaya_per_hari[biaya_per_hari > 110000].index.tolist()\n",
    "\n",
    "print(\"Hari di mana biaya lebih dari 110000:\", hari_biaya_lebih_110000)"
   ]
  },
  {
   "cell_type": "code",
   "execution_count": 11,
   "metadata": {},
   "outputs": [
    {
     "name": "stdout",
     "output_type": "stream",
     "text": [
      "Mahasiswa yang paling banyak datang ke kampus adalah Ani dengan total kedatangan sebanyak 7 kali.\n"
     ]
    }
   ],
   "source": [
    "# Baca file Dataset.csv\n",
    "df = pd.read_csv(\"Dataset.csv\")\n",
    "\n",
    "# Kelompokkan data berdasarkan nama mahasiswa dan hitung total kedatangan untuk setiap mahasiswa\n",
    "total_kedatangan_per_mahasiswa = df.groupby('MAHASISWA')['DATANG'].sum()\n",
    "\n",
    "# Temukan mahasiswa dengan jumlah kedatangan terbanyak\n",
    "mahasiswa_terbanyak = total_kedatangan_per_mahasiswa.idxmax()\n",
    "jumlah_kedatangan_terbanyak = total_kedatangan_per_mahasiswa.max()\n",
    "\n",
    "print(\"Mahasiswa yang paling banyak datang ke kampus adalah\", mahasiswa_terbanyak, \"dengan total kedatangan sebanyak\", jumlah_kedatangan_terbanyak, \"kali.\")"
   ]
  },
  {
   "cell_type": "code",
   "execution_count": 12,
   "metadata": {},
   "outputs": [
    {
     "name": "stdout",
     "output_type": "stream",
     "text": [
      "Mahasiswa yang datang pada hari Minggu adalah: ['Budi']\n"
     ]
    }
   ],
   "source": [
    "# Baca file Dataset.csv\n",
    "df = pd.read_csv(\"Dataset.csv\")\n",
    "\n",
    "# Filter dataset untuk mendapatkan entri yang memiliki nilai \"Minggu\" pada kolom \"HARI\"\n",
    "df_minggu = df[df['HARI'] == 'Minggu']\n",
    "\n",
    "# Ambil daftar mahasiswa yang datang pada hari Minggu\n",
    "mahasiswa_minggu = df_minggu['MAHASISWA'].unique()\n",
    "\n",
    "print(\"Mahasiswa yang datang pada hari Minggu adalah:\", mahasiswa_minggu)"
   ]
  },
  {
   "cell_type": "code",
   "execution_count": 16,
   "metadata": {},
   "outputs": [
    {
     "name": "stdout",
     "output_type": "stream",
     "text": [
      "Biaya tertinggi: 750000\n",
      "Biaya terendah: 15000\n"
     ]
    }
   ],
   "source": [
    "# Baca file Dataset.csv\n",
    "df = pd.read_csv(\"Dataset.csv\")\n",
    "\n",
    "# Ubah biaya dari string menjadi integer\n",
    "df['BIAYA'] = df['BIAYA'].apply(lambda x: int(x.split('x')[0]) * int(x.split('x')[1]))\n",
    "\n",
    "# Hitung biaya total untuk setiap entri data\n",
    "df['BIAYA_TOTAL'] = df['DATANG'] * df['BIAYA']\n",
    "\n",
    "# Temukan biaya tertinggi dan terendah\n",
    "biaya_tertinggi = df['BIAYA_TOTAL'].max()\n",
    "biaya_terendah = df['BIAYA_TOTAL'].min()\n",
    "\n",
    "print(\"Biaya tertinggi:\", biaya_tertinggi)\n",
    "print(\"Biaya terendah:\", biaya_terendah)"
   ]
  },
  {
   "cell_type": "code",
   "execution_count": 17,
   "metadata": {},
   "outputs": [
    {
     "name": "stdout",
     "output_type": "stream",
     "text": [
      "Frekuensi datang tertinggi: 7\n",
      "Frekuensi datang terendah: 1\n"
     ]
    }
   ],
   "source": [
    "# Baca file Dataset.csv\n",
    "df = pd.read_csv(\"Dataset.csv\")\n",
    "\n",
    "# Kelompokkan data berdasarkan nama mahasiswa dan hitung jumlah datang untuk setiap mahasiswa\n",
    "frekuensi_datang_per_mahasiswa = df.groupby('MAHASISWA')['DATANG'].sum()\n",
    "\n",
    "# Temukan frekuensi datang tertinggi dan terendah\n",
    "frekuensi_datang_tertinggi = frekuensi_datang_per_mahasiswa.max()\n",
    "frekuensi_datang_terendah = frekuensi_datang_per_mahasiswa.min()\n",
    "\n",
    "print(\"Frekuensi datang tertinggi:\", frekuensi_datang_tertinggi)\n",
    "print(\"Frekuensi datang terendah:\", frekuensi_datang_terendah)"
   ]
  },
  {
   "cell_type": "code",
   "execution_count": null,
   "metadata": {},
   "outputs": [],
   "source": []
  },
  {
   "cell_type": "code",
   "execution_count": null,
   "metadata": {},
   "outputs": [],
   "source": []
  },
  {
   "cell_type": "code",
   "execution_count": null,
   "metadata": {},
   "outputs": [],
   "source": []
  },
  {
   "cell_type": "code",
   "execution_count": 4,
   "metadata": {},
   "outputs": [
    {
     "name": "stdout",
     "output_type": "stream",
     "text": [
      "          fakultas  jumlah_mahasiswa akreditasi\n",
      "0           Bisnis               260          A\n",
      "1    D3 Perhotelan                28          A\n",
      "2              ICT               284          B\n",
      "3  Ilmu Komunikasi               465          A\n",
      "4  Seni dan Desain               735          A\n"
     ]
    },
    {
     "data": {
      "image/png": "[encoded data removed]",
      "text/plain": [
       "<Figure size 1000x600 with 1 Axes>"
      ]
     },
     "metadata": {},
     "output_type": "display_data"
    }
   ],
   "source": [
    "import pandas as pd\n",
    "import matplotlib.pyplot as plt\n",
    "import seaborn as sns\n",
    "\n",
    "# Membuat data frame\n",
    "data = {\n",
    "    'fakultas': [\"Bisnis\", \"D3 Perhotelan\", \"ICT\", \"Ilmu Komunikasi\", \"Seni dan Desain\"],\n",
    "    'jumlah_mahasiswa': [260, 28, 284, 465, 735],\n",
    "    'akreditasi': [\"A\", \"A\", \"B\", \"A\", \"A\"]\n",
    "}\n",
    "info_mahasiswa = pd.DataFrame(data)\n",
    "print(info_mahasiswa)\n",
    "\n",
    "# Membuat plot menggunakan seaborn\n",
    "plt.figure(figsize=(10, 6))\n",
    "sns.barplot(x='fakultas', y='jumlah_mahasiswa', data=info_mahasiswa, hue='fakultas', palette='viridis', dodge=False)\n",
    "plt.legend([], [], frameon=False)\n",
    "\n",
    "# Menampilkan plot\n",
    "plt.xlabel('Fakultas')\n",
    "plt.ylabel('Jumlah Mahasiswa')\n",
    "plt.title('Jumlah Mahasiswa per Fakultas')\n",
    "plt.xticks(rotation=45)\n",
    "plt.show()\n"
   ]
  }
 ],
 "metadata": {
  "kernelspec": {
   "display_name": "Python 3 (ipykernel)",
   "language": "python",
   "name": "python3"
  },
  "language_info": {
   "codemirror_mode": {
    "name": "ipython",
    "version": 3
   },
   "file_extension": ".py",
   "mimetype": "text/x-python",
   "name": "python",
   "nbconvert_exporter": "python",
   "pygments_lexer": "ipython3",
   "version": "3.12.0"
  }
 },
 "nbformat": 4,
 "nbformat_minor": 4
}
